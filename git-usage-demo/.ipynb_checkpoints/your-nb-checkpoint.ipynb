{
 "cells": [
  {
   "cell_type": "markdown",
   "id": "3dc234e2",
   "metadata": {},
   "source": [
    "# This is the file that you will modify!"
   ]
  },
  {
   "cell_type": "markdown",
   "id": "c7cc7c28",
   "metadata": {},
   "source": [
    "In the code cell below, make two Python variables called `name` and `your_sentence`. In `name`, write a string where you state your name. In `your_sentence`, write a string with \"My name is\" with your name added on (+ name)."
   ]
  },
  {
   "cell_type": "code",
   "execution_count": 1,
   "id": "24c371bd",
   "metadata": {},
   "outputs": [],
   "source": [
    "## Put your code here"
   ]
  },
  {
   "cell_type": "markdown",
   "id": "c1a9f2ed",
   "metadata": {},
   "source": [
    "In this cell under, it is checking that you followed the instructions above. **DO NOT EDIT THE CELL BELOW**!!"
   ]
  },
  {
   "cell_type": "code",
   "execution_count": null,
   "id": "df083846",
   "metadata": {},
   "outputs": [],
   "source": [
    "assert name\n",
    "assert your_sentence == \"My name is \" + name"
   ]
  }
 ],
 "metadata": {
  "kernelspec": {
   "display_name": "Python 3 (ipykernel)",
   "language": "python",
   "name": "python3"
  },
  "language_info": {
   "codemirror_mode": {
    "name": "ipython",
    "version": 3
   },
   "file_extension": ".py",
   "mimetype": "text/x-python",
   "name": "python",
   "nbconvert_exporter": "python",
   "pygments_lexer": "ipython3",
   "version": "3.10.9"
  }
 },
 "nbformat": 4,
 "nbformat_minor": 5
}
